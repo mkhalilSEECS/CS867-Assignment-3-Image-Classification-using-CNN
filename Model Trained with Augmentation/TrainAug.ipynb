{
  "nbformat": 4,
  "nbformat_minor": 0,
  "metadata": {
    "kernelspec": {
      "display_name": "Python 3",
      "language": "python",
      "name": "python3"
    },
    "language_info": {
      "codemirror_mode": {
        "name": "ipython",
        "version": 3
      },
      "file_extension": ".py",
      "mimetype": "text/x-python",
      "name": "python",
      "nbconvert_exporter": "python",
      "pygments_lexer": "ipython3",
      "version": "3.8.5"
    },
    "colab": {
      "name": "Train.ipynb",
      "provenance": [],
      "collapsed_sections": []
    },
    "accelerator": "GPU"
  },
  "cells": [
    {
      "cell_type": "code",
      "metadata": {
        "colab": {
          "base_uri": "https://localhost:8080/",
          "height": 0
        },
        "id": "JXyRwXje0zTY",
        "outputId": "0caa9220-b6b7-4f92-80e1-a649e4c4eaf1"
      },
      "source": [
        "from google.colab import drive\r\n",
        "drive.mount('/content/drive')"
      ],
      "execution_count": 1,
      "outputs": [
        {
          "output_type": "stream",
          "text": [
            "Mounted at /content/drive\n"
          ],
          "name": "stdout"
        }
      ]
    },
    {
      "cell_type": "code",
      "metadata": {
        "id": "ZAUVjHB20svv"
      },
      "source": [
        "from keras.applications.vgg16 import VGG16\n",
        "from keras.models import Model\n",
        "from keras.layers import Dense\n",
        "from keras.layers import Flatten\n",
        "from keras.optimizers import SGD\n",
        "import os\n",
        "import cv2\n",
        "import numpy as np\n",
        "from imutils import paths\n",
        "from sklearn.preprocessing import LabelBinarizer\n",
        "from tqdm import tqdm\n",
        "import tensorflow as tf\n",
        "import keras\n",
        "from tensorflow.keras.preprocessing.image import ImageDataGenerator\n",
        "from keras.optimizers import SGD"
      ],
      "execution_count": 47,
      "outputs": []
    },
    {
      "cell_type": "code",
      "metadata": {
        "id": "alp-sMt60sv3"
      },
      "source": [
        "model = VGG16(include_top=False, input_shape=(150, 150, 3))"
      ],
      "execution_count": 48,
      "outputs": []
    },
    {
      "cell_type": "code",
      "metadata": {
        "id": "5EbzGTQ70sv4"
      },
      "source": [
        "flat1 = Flatten()(model.layers[-1].output) # flatten last layer\n",
        "class1 = Dense(1024, activation='relu')(flat1) # add FC layer on previous layer\n",
        "output = Dense(6, activation='softmax')(class1) # add softmax layer"
      ],
      "execution_count": 49,
      "outputs": []
    },
    {
      "cell_type": "code",
      "metadata": {
        "colab": {
          "base_uri": "https://localhost:8080/",
          "height": 0
        },
        "id": "pZ4IOWPB0sv4",
        "outputId": "996c6f94-0c93-40db-f053-5815b5ba88fe"
      },
      "source": [
        "model = Model(inputs=model.inputs, outputs=output)\n",
        "model.summary()"
      ],
      "execution_count": 50,
      "outputs": [
        {
          "output_type": "stream",
          "text": [
            "Model: \"model_4\"\n",
            "_________________________________________________________________\n",
            "Layer (type)                 Output Shape              Param #   \n",
            "=================================================================\n",
            "input_5 (InputLayer)         [(None, 150, 150, 3)]     0         \n",
            "_________________________________________________________________\n",
            "block1_conv1 (Conv2D)        (None, 150, 150, 64)      1792      \n",
            "_________________________________________________________________\n",
            "block1_conv2 (Conv2D)        (None, 150, 150, 64)      36928     \n",
            "_________________________________________________________________\n",
            "block1_pool (MaxPooling2D)   (None, 75, 75, 64)        0         \n",
            "_________________________________________________________________\n",
            "block2_conv1 (Conv2D)        (None, 75, 75, 128)       73856     \n",
            "_________________________________________________________________\n",
            "block2_conv2 (Conv2D)        (None, 75, 75, 128)       147584    \n",
            "_________________________________________________________________\n",
            "block2_pool (MaxPooling2D)   (None, 37, 37, 128)       0         \n",
            "_________________________________________________________________\n",
            "block3_conv1 (Conv2D)        (None, 37, 37, 256)       295168    \n",
            "_________________________________________________________________\n",
            "block3_conv2 (Conv2D)        (None, 37, 37, 256)       590080    \n",
            "_________________________________________________________________\n",
            "block3_conv3 (Conv2D)        (None, 37, 37, 256)       590080    \n",
            "_________________________________________________________________\n",
            "block3_pool (MaxPooling2D)   (None, 18, 18, 256)       0         \n",
            "_________________________________________________________________\n",
            "block4_conv1 (Conv2D)        (None, 18, 18, 512)       1180160   \n",
            "_________________________________________________________________\n",
            "block4_conv2 (Conv2D)        (None, 18, 18, 512)       2359808   \n",
            "_________________________________________________________________\n",
            "block4_conv3 (Conv2D)        (None, 18, 18, 512)       2359808   \n",
            "_________________________________________________________________\n",
            "block4_pool (MaxPooling2D)   (None, 9, 9, 512)         0         \n",
            "_________________________________________________________________\n",
            "block5_conv1 (Conv2D)        (None, 9, 9, 512)         2359808   \n",
            "_________________________________________________________________\n",
            "block5_conv2 (Conv2D)        (None, 9, 9, 512)         2359808   \n",
            "_________________________________________________________________\n",
            "block5_conv3 (Conv2D)        (None, 9, 9, 512)         2359808   \n",
            "_________________________________________________________________\n",
            "block5_pool (MaxPooling2D)   (None, 4, 4, 512)         0         \n",
            "_________________________________________________________________\n",
            "flatten_4 (Flatten)          (None, 8192)              0         \n",
            "_________________________________________________________________\n",
            "dense_8 (Dense)              (None, 1024)              8389632   \n",
            "_________________________________________________________________\n",
            "dense_9 (Dense)              (None, 6)                 6150      \n",
            "=================================================================\n",
            "Total params: 23,110,470\n",
            "Trainable params: 23,110,470\n",
            "Non-trainable params: 0\n",
            "_________________________________________________________________\n"
          ],
          "name": "stdout"
        }
      ]
    },
    {
      "cell_type": "code",
      "metadata": {
        "id": "roybJYKw0sv6"
      },
      "source": [
        "train_dir ='/content/drive/MyDrive/Colab Notebooks/intel-image-classification/seg_train/seg_train'\n",
        "valid_dir ='/content/drive/MyDrive/Colab Notebooks/intel-image-classification/seg_test/seg_test'\n",
        "pred_dir  = '/content/drive/MyDrive/Colab Notebooks/intel-image-classification/seg_pred'"
      ],
      "execution_count": 51,
      "outputs": []
    },
    {
      "cell_type": "code",
      "metadata": {
        "id": "tf5bIUS8gHkI"
      },
      "source": [
        "rescale = 1./255,\r\n",
        "\t    rotation_range=15,\r\n",
        "      width_shift_range=0.1,\r\n",
        "      height_shift_range=0.1,\r\n",
        "      shear_range=0.01,\r\n",
        "      zoom_range=[0.1, 1.5],\r\n",
        "      horizontal_flip=True,\r\n",
        "      fill_mode='nearest',\r\n",
        "      zca_whitening=True,\r\n",
        "      brightness_range=[0.1, 2]"
      ],
      "execution_count": null,
      "outputs": []
    },
    {
      "cell_type": "code",
      "metadata": {
        "colab": {
          "base_uri": "https://localhost:8080/",
          "height": 0
        },
        "id": "_IzfCQ1M0sv6",
        "outputId": "bdcb072a-7032-49e3-9022-9a3a46210ac0"
      },
      "source": [
        "#train_datagen = ImageDataGenerator(rescale = 1./255, rotation_range=15, horizontal_flip=True, fill_mode='nearest', brightness_range=[0.1, 2])\n",
        "train_datagen = ImageDataGenerator(rescale = 1./255, rotation_range=15, horizontal_flip=True, brightness_range=[0.1, 2])\n",
        "\n",
        "train_generator=train_datagen.flow_from_directory(\n",
        "      train_dir,\n",
        "      target_size=(150,150),\n",
        "      batch_size=64,\n",
        "      class_mode='categorical')\n",
        "\n",
        "valid_datagen = ImageDataGenerator(rescale = 1./255)\n",
        "\n",
        "validation_generator=valid_datagen.flow_from_directory(\n",
        "      valid_dir,\n",
        "      target_size=(150,150),\n",
        "      batch_size=64,\n",
        "      class_mode='categorical')\n",
        "\n",
        "test_datagen = ImageDataGenerator(rescale = 1./255,  rotation_range=15, horizontal_flip=True, brightness_range=[0.1, 2])\n",
        "test_generator = test_datagen.flow_from_directory(\n",
        "    pred_dir, \n",
        "    target_size=(150,150),\n",
        "    batch_size=32,\n",
        "    class_mode = 'categorical' ) "
      ],
      "execution_count": 52,
      "outputs": [
        {
          "output_type": "stream",
          "text": [
            "Found 14034 images belonging to 6 classes.\n",
            "Found 3000 images belonging to 6 classes.\n",
            "Found 7301 images belonging to 6 classes.\n"
          ],
          "name": "stdout"
        }
      ]
    },
    {
      "cell_type": "code",
      "metadata": {
        "id": "et_2YZU10sv7"
      },
      "source": [
        "sgd = SGD(lr=0.001, decay=1e-7, momentum=.9)\n",
        "model.compile(loss='categorical_crossentropy', \n",
        "              optimizer=sgd,\n",
        "              metrics=['accuracy'])"
      ],
      "execution_count": 53,
      "outputs": []
    },
    {
      "cell_type": "code",
      "metadata": {
        "colab": {
          "base_uri": "https://localhost:8080/",
          "height": 0
        },
        "id": "UPpkfR220sv7",
        "outputId": "2d79dc86-366d-485f-ce89-5c7cea43fd3c"
      },
      "source": [
        "H = model.fit(train_generator, batch_size=128,\n",
        "              epochs=10, \n",
        "              validation_data=validation_generator)"
      ],
      "execution_count": 54,
      "outputs": [
        {
          "output_type": "stream",
          "text": [
            "Epoch 1/10\n",
            "220/220 [==============================] - 119s 536ms/step - loss: 0.8243 - accuracy: 0.6780 - val_loss: 0.4131 - val_accuracy: 0.8530\n",
            "Epoch 2/10\n",
            "220/220 [==============================] - 115s 523ms/step - loss: 0.3421 - accuracy: 0.8790 - val_loss: 0.2521 - val_accuracy: 0.9087\n",
            "Epoch 3/10\n",
            "220/220 [==============================] - 115s 524ms/step - loss: 0.2487 - accuracy: 0.9113 - val_loss: 0.2349 - val_accuracy: 0.9133\n",
            "Epoch 4/10\n",
            "220/220 [==============================] - 115s 522ms/step - loss: 0.2193 - accuracy: 0.9241 - val_loss: 0.2092 - val_accuracy: 0.9243\n",
            "Epoch 5/10\n",
            "220/220 [==============================] - 115s 523ms/step - loss: 0.1968 - accuracy: 0.9312 - val_loss: 0.2316 - val_accuracy: 0.9177\n",
            "Epoch 6/10\n",
            "220/220 [==============================] - 115s 522ms/step - loss: 0.1868 - accuracy: 0.9348 - val_loss: 0.2127 - val_accuracy: 0.9203\n",
            "Epoch 7/10\n",
            "220/220 [==============================] - 115s 521ms/step - loss: 0.1667 - accuracy: 0.9408 - val_loss: 0.2038 - val_accuracy: 0.9283\n",
            "Epoch 8/10\n",
            "220/220 [==============================] - 115s 522ms/step - loss: 0.1479 - accuracy: 0.9466 - val_loss: 0.2027 - val_accuracy: 0.9227\n",
            "Epoch 9/10\n",
            "220/220 [==============================] - 115s 523ms/step - loss: 0.1291 - accuracy: 0.9520 - val_loss: 0.2392 - val_accuracy: 0.9143\n",
            "Epoch 10/10\n",
            "220/220 [==============================] - 115s 520ms/step - loss: 0.1300 - accuracy: 0.9520 - val_loss: 0.2249 - val_accuracy: 0.9220\n"
          ],
          "name": "stdout"
        }
      ]
    },
    {
      "cell_type": "code",
      "metadata": {
        "id": "RScJixWMQFUD"
      },
      "source": [
        "# save the model's trained weights \r\n",
        "model.save_weights('vgg_transfer_trained_wts.h5')"
      ],
      "execution_count": 58,
      "outputs": []
    },
    {
      "cell_type": "code",
      "metadata": {
        "colab": {
          "base_uri": "https://localhost:8080/",
          "height": 0
        },
        "id": "XrdZLlee6Y5o",
        "outputId": "01ffa534-9f74-4c03-b900-97b178ccbc18"
      },
      "source": [
        "score = model.evaluate(test_generator)\n",
        "print('Test Loss = ', score[0])\n",
        "print('Test Accuracy = ', score[1])"
      ],
      "execution_count": 55,
      "outputs": [
        {
          "output_type": "stream",
          "text": [
            "229/229 [==============================] - 51s 224ms/step - loss: 0.3417 - accuracy: 0.8996\n",
            "Test Loss =  0.3416937291622162\n",
            "Test Accuracy =  0.8996027708053589\n"
          ],
          "name": "stdout"
        }
      ]
    },
    {
      "cell_type": "code",
      "metadata": {
        "id": "sfDHxtv00sv7",
        "colab": {
          "base_uri": "https://localhost:8080/",
          "height": 0
        },
        "outputId": "00e190b5-3744-472d-b143-2f4bc3058119"
      },
      "source": [
        "# Making prediction\r\n",
        "y_pred = model.predict(test_generator)\r\n",
        "y_true = np.argmax(y_pred, axis=-1)\r\n",
        " \r\n",
        "from sklearn.metrics import confusion_matrix\r\n",
        "confusion_mtx = confusion_matrix(y_true, np.argmax(y_pred, axis=1))\r\n",
        "confusion_mtx"
      ],
      "execution_count": 56,
      "outputs": [
        {
          "output_type": "execute_result",
          "data": {
            "text/plain": [
              "array([[1107,    0,    0,    0,    0,    0],\n",
              "       [   0, 1164,    0,    0,    0,    0],\n",
              "       [   0,    0, 1115,    0,    0,    0],\n",
              "       [   0,    0,    0, 1442,    0,    0],\n",
              "       [   0,    0,    0,    0, 1146,    0],\n",
              "       [   0,    0,    0,    0,    0, 1327]])"
            ]
          },
          "metadata": {
            "tags": []
          },
          "execution_count": 56
        }
      ]
    },
    {
      "cell_type": "code",
      "metadata": {
        "id": "T68CDXz_ez9D",
        "colab": {
          "base_uri": "https://localhost:8080/",
          "height": 513
        },
        "outputId": "e1fe9521-22f0-4e21-d481-e7aee1ba1652"
      },
      "source": [
        "acc=H.history['accuracy']\r\n",
        "val_acc=H.history['val_accuracy']\r\n",
        "loss=H.history['loss']\r\n",
        "val_loss=H.history['val_loss']\r\n",
        " \r\n",
        "epochs=range(len(acc)) \r\n",
        " \r\n",
        "#Plot training and validation accuracy per epoch\r\n",
        "import matplotlib.pyplot as plt\r\n",
        "plt.plot(epochs,acc,'b',label='Training Accuracy')\r\n",
        "plt.plot(epochs,val_acc,'r',label='Validation Accuracy')\r\n",
        "plt.legend()\r\n",
        "plt.figure()\r\n",
        " \r\n",
        "#Plot training and validation loss per epoch\r\n",
        "plt.plot(epochs,loss,'b',label='Training Loss')\r\n",
        "plt.plot(epochs,val_loss,'r',label='Validation Loss')\r\n",
        "plt.legend()\r\n",
        "plt.show()"
      ],
      "execution_count": 57,
      "outputs": [
        {
          "output_type": "display_data",
          "data": {
            "image/png": "[encoded data removed]",
            "text/plain": [
              "<Figure size 432x288 with 1 Axes>"
            ]
          },
          "metadata": {
            "tags": [],
            "needs_background": "light"
          }
        },
        {
          "output_type": "display_data",
          "data": {
            "image/png": "[encoded data removed]",
            "text/plain": [
              "<Figure size 432x288 with 1 Axes>"
            ]
          },
          "metadata": {
            "tags": [],
            "needs_background": "light"
          }
        }
      ]
    },
    {
      "cell_type": "code",
      "metadata": {
        "id": "vS5sfNKmez6p"
      },
      "source": [
        ""
      ],
      "execution_count": null,
      "outputs": []
    },
    {
      "cell_type": "code",
      "metadata": {
        "id": "NSkPUCxiez4b"
      },
      "source": [
        ""
      ],
      "execution_count": null,
      "outputs": []
    },
    {
      "cell_type": "code",
      "metadata": {
        "id": "7nFr3tdvez1h"
      },
      "source": [
        ""
      ],
      "execution_count": null,
      "outputs": []
    }
  ]
}