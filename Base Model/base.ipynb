{
  "nbformat": 4,
  "nbformat_minor": 0,
  "metadata": {
    "accelerator": "GPU",
    "colab": {
      "name": "base.ipynb",
      "provenance": [],
      "collapsed_sections": []
    },
    "kernelspec": {
      "display_name": "Python 3",
      "language": "python",
      "name": "python3"
    },
    "language_info": {
      "codemirror_mode": {
        "name": "ipython",
        "version": 3
      },
      "file_extension": ".py",
      "mimetype": "text/x-python",
      "name": "python",
      "nbconvert_exporter": "python",
      "pygments_lexer": "ipython3",
      "version": "3.8.5"
    }
  },
  "cells": [
    {
      "cell_type": "code",
      "metadata": {
        "colab": {
          "base_uri": "https://localhost:8080/"
        },
        "id": "JXyRwXje0zTY",
        "outputId": "4483df6d-db89-4314-ba2d-669c88e8d7cb"
      },
      "source": [
        "from google.colab import drive\n",
        "drive.mount('/content/drive')"
      ],
      "execution_count": null,
      "outputs": [
        {
          "output_type": "stream",
          "text": [
            "Mounted at /content/drive\n"
          ],
          "name": "stdout"
        }
      ]
    },
    {
      "cell_type": "code",
      "metadata": {
        "id": "ZAUVjHB20svv"
      },
      "source": [
        "from keras.applications.vgg16 import VGG16\n",
        "from keras.models import Model\n",
        "from keras.layers import Dense\n",
        "from keras.layers import Flatten\n",
        "from keras.optimizers import SGD\n",
        "import os\n",
        "import cv2\n",
        "import numpy as np\n",
        "from imutils import paths\n",
        "from sklearn.preprocessing import LabelBinarizer\n",
        "from tqdm import tqdm\n",
        "import tensorflow as tf\n",
        "import keras\n",
        "from tensorflow.keras.preprocessing.image import ImageDataGenerator\n",
        "from keras.optimizers import SGD"
      ],
      "execution_count": null,
      "outputs": []
    },
    {
      "cell_type": "code",
      "metadata": {
        "id": "alp-sMt60sv3"
      },
      "source": [
        "model = VGG16(include_top=False, input_shape=(150, 150, 3))"
      ],
      "execution_count": null,
      "outputs": []
    },
    {
      "cell_type": "code",
      "metadata": {
        "id": "5EbzGTQ70sv4"
      },
      "source": [
        "flat1 = Flatten()(model.layers[-1].output) # flatten last layer\n",
        "class1 = Dense(1024, activation='relu')(flat1) # add FC layer on previous layer\n",
        "output = Dense(6, activation='softmax')(class1) # add softmax layer"
      ],
      "execution_count": null,
      "outputs": []
    },
    {
      "cell_type": "code",
      "metadata": {
        "colab": {
          "base_uri": "https://localhost:8080/"
        },
        "id": "pZ4IOWPB0sv4",
        "outputId": "d979de51-3ff0-40d8-c93d-877380e4d0e7"
      },
      "source": [
        "model = Model(inputs=model.inputs, outputs=output)\n",
        "model.summary()"
      ],
      "execution_count": null,
      "outputs": [
        {
          "output_type": "stream",
          "text": [
            "Model: \"model_4\"\n",
            "_________________________________________________________________\n",
            "Layer (type)                 Output Shape              Param #   \n",
            "=================================================================\n",
            "input_4 (InputLayer)         [(None, 150, 150, 3)]     0         \n",
            "_________________________________________________________________\n",
            "block1_conv1 (Conv2D)        (None, 150, 150, 64)      1792      \n",
            "_________________________________________________________________\n",
            "block1_conv2 (Conv2D)        (None, 150, 150, 64)      36928     \n",
            "_________________________________________________________________\n",
            "block1_pool (MaxPooling2D)   (None, 75, 75, 64)        0         \n",
            "_________________________________________________________________\n",
            "block2_conv1 (Conv2D)        (None, 75, 75, 128)       73856     \n",
            "_________________________________________________________________\n",
            "block2_conv2 (Conv2D)        (None, 75, 75, 128)       147584    \n",
            "_________________________________________________________________\n",
            "block2_pool (MaxPooling2D)   (None, 37, 37, 128)       0         \n",
            "_________________________________________________________________\n",
            "block3_conv1 (Conv2D)        (None, 37, 37, 256)       295168    \n",
            "_________________________________________________________________\n",
            "block3_conv2 (Conv2D)        (None, 37, 37, 256)       590080    \n",
            "_________________________________________________________________\n",
            "block3_conv3 (Conv2D)        (None, 37, 37, 256)       590080    \n",
            "_________________________________________________________________\n",
            "block3_pool (MaxPooling2D)   (None, 18, 18, 256)       0         \n",
            "_________________________________________________________________\n",
            "block4_conv1 (Conv2D)        (None, 18, 18, 512)       1180160   \n",
            "_________________________________________________________________\n",
            "block4_conv2 (Conv2D)        (None, 18, 18, 512)       2359808   \n",
            "_________________________________________________________________\n",
            "block4_conv3 (Conv2D)        (None, 18, 18, 512)       2359808   \n",
            "_________________________________________________________________\n",
            "block4_pool (MaxPooling2D)   (None, 9, 9, 512)         0         \n",
            "_________________________________________________________________\n",
            "block5_conv1 (Conv2D)        (None, 9, 9, 512)         2359808   \n",
            "_________________________________________________________________\n",
            "block5_conv2 (Conv2D)        (None, 9, 9, 512)         2359808   \n",
            "_________________________________________________________________\n",
            "block5_conv3 (Conv2D)        (None, 9, 9, 512)         2359808   \n",
            "_________________________________________________________________\n",
            "block5_pool (MaxPooling2D)   (None, 4, 4, 512)         0         \n",
            "_________________________________________________________________\n",
            "flatten_3 (Flatten)          (None, 8192)              0         \n",
            "_________________________________________________________________\n",
            "dense_6 (Dense)              (None, 1024)              8389632   \n",
            "_________________________________________________________________\n",
            "dense_7 (Dense)              (None, 6)                 6150      \n",
            "=================================================================\n",
            "Total params: 23,110,470\n",
            "Trainable params: 23,110,470\n",
            "Non-trainable params: 0\n",
            "_________________________________________________________________\n"
          ],
          "name": "stdout"
        }
      ]
    },
    {
      "cell_type": "code",
      "metadata": {
        "id": "roybJYKw0sv6"
      },
      "source": [
        "train_dir ='/content/drive/MyDrive/data/seg_train'\n",
        "valid_dir ='/content/drive/MyDrive/data/seg_test/'\n",
        "pred_dir  = '/content/drive/MyDrive/data/seg_pred/'"
      ],
      "execution_count": null,
      "outputs": []
    },
    {
      "cell_type": "code",
      "metadata": {
        "colab": {
          "base_uri": "https://localhost:8080/"
        },
        "id": "_IzfCQ1M0sv6",
        "outputId": "894c129f-d52c-49fa-a26b-d3e00cf6eebd"
      },
      "source": [
        "#Add data-augmentation parameters to ImageDataGenerator\n",
        "datagen = ImageDataGenerator(rescale = 1./255)\n",
        "\n",
        "#Generate batches and load data with real-time data augmentation.\n",
        "train_generator=datagen.flow_from_directory(\n",
        "      train_dir,\n",
        "      target_size=(150,150),\n",
        "      batch_size=64,\n",
        "      class_mode='categorical')\n",
        "validation_generator=datagen.flow_from_directory(\n",
        "      valid_dir,\n",
        "      target_size=(150,150),\n",
        "      batch_size=64,\n",
        "      class_mode='categorical')\n",
        "test_datagen = ImageDataGenerator(rescale = 1./255)\n",
        "test_generator = test_datagen.flow_from_directory(\n",
        "    pred_dir, \n",
        "    target_size=(150,150),\n",
        "    batch_size=32,\n",
        "    class_mode = 'categorical' ) "
      ],
      "execution_count": null,
      "outputs": [
        {
          "output_type": "stream",
          "text": [
            "Found 14034 images belonging to 6 classes.\n",
            "Found 3000 images belonging to 6 classes.\n",
            "Found 7301 images belonging to 6 classes.\n"
          ],
          "name": "stdout"
        }
      ]
    },
    {
      "cell_type": "code",
      "metadata": {
        "id": "et_2YZU10sv7"
      },
      "source": [
        "#Compile the model\n",
        "sgd = SGD(lr=0.001, decay=1e-7, momentum=.9)\n",
        "model.compile(loss='categorical_crossentropy', \n",
        "              optimizer=sgd,\n",
        "              metrics=['accuracy'])"
      ],
      "execution_count": null,
      "outputs": []
    },
    {
      "cell_type": "code",
      "metadata": {
        "colab": {
          "base_uri": "https://localhost:8080/"
        },
        "id": "UPpkfR220sv7",
        "outputId": "b1ba7a7c-7fb7-4b10-b4fd-c2d64adfb9af"
      },
      "source": [
        "H = model.fit(train_generator, batch_size=64,\n",
        "              epochs=10, \n",
        "              validation_data=validation_generator)"
      ],
      "execution_count": null,
      "outputs": [
        {
          "output_type": "stream",
          "text": [
            "Epoch 1/10\n",
            "220/220 [==============================] - 151s 682ms/step - loss: 0.8777 - accuracy: 0.6571 - val_loss: 0.3508 - val_accuracy: 0.8713\n",
            "Epoch 2/10\n",
            "220/220 [==============================] - 149s 677ms/step - loss: 0.3251 - accuracy: 0.8840 - val_loss: 0.2804 - val_accuracy: 0.8980\n",
            "Epoch 3/10\n",
            "220/220 [==============================] - 150s 680ms/step - loss: 0.2551 - accuracy: 0.9100 - val_loss: 0.2495 - val_accuracy: 0.9073\n",
            "Epoch 4/10\n",
            "220/220 [==============================] - 149s 676ms/step - loss: 0.2309 - accuracy: 0.9172 - val_loss: 0.2583 - val_accuracy: 0.9070\n",
            "Epoch 5/10\n",
            "220/220 [==============================] - 149s 675ms/step - loss: 0.2078 - accuracy: 0.9225 - val_loss: 0.2477 - val_accuracy: 0.9053\n",
            "Epoch 6/10\n",
            "220/220 [==============================] - 148s 672ms/step - loss: 0.1817 - accuracy: 0.9381 - val_loss: 0.2410 - val_accuracy: 0.9070\n",
            "Epoch 7/10\n",
            "220/220 [==============================] - 148s 673ms/step - loss: 0.1675 - accuracy: 0.9390 - val_loss: 0.2332 - val_accuracy: 0.9177\n",
            "Epoch 8/10\n",
            "220/220 [==============================] - 148s 672ms/step - loss: 0.1563 - accuracy: 0.9433 - val_loss: 0.2211 - val_accuracy: 0.9213\n",
            "Epoch 9/10\n",
            "220/220 [==============================] - 148s 674ms/step - loss: 0.1458 - accuracy: 0.9474 - val_loss: 0.2300 - val_accuracy: 0.9177\n",
            "Epoch 10/10\n",
            "220/220 [==============================] - 148s 674ms/step - loss: 0.1263 - accuracy: 0.9560 - val_loss: 0.2475 - val_accuracy: 0.9157\n"
          ],
          "name": "stdout"
        }
      ]
    },
    {
      "cell_type": "code",
      "metadata": {
        "id": "sbULS4SEKTrg"
      },
      "source": [
        "# save the model's trained weights\n",
        "model.save_weights('vgg_transfer_trained_wts.h5')"
      ],
      "execution_count": null,
      "outputs": []
    },
    {
      "cell_type": "code",
      "metadata": {
        "colab": {
          "base_uri": "https://localhost:8080/"
        },
        "id": "XrdZLlee6Y5o",
        "outputId": "f07359a2-4c30-489c-bed0-5bb412942e36"
      },
      "source": [
        "score = model.evaluate(test_generator)\n",
        "print('Test Loss = ', score[0])\n",
        "print('Test Accuracy = ', score[1])"
      ],
      "execution_count": null,
      "outputs": [
        {
          "output_type": "stream",
          "text": [
            "229/229 [==============================] - 18s 72ms/step - loss: 0.3865 - accuracy: 0.9011\n",
            "Test Loss =  0.3865315020084381\n",
            "Test Accuracy =  0.9011094570159912\n"
          ],
          "name": "stdout"
        }
      ]
    },
    {
      "cell_type": "code",
      "metadata": {
        "colab": {
          "base_uri": "https://localhost:8080/"
        },
        "id": "sfDHxtv00sv7",
        "outputId": "79e8c679-1a6a-4085-e9fa-a5f1f19b4525"
      },
      "source": [
        "# Making prediction\n",
        "y_pred = model.predict(test_generator)\n",
        "y_true = np.argmax(y_pred, axis=-1)\n",
        "\n",
        "#Confussion Matrix \n",
        "from sklearn.metrics import confusion_matrix\n",
        "confusion_mtx = confusion_matrix(y_true, np.argmax(y_pred, axis=1))\n",
        "confusion_mtx"
      ],
      "execution_count": null,
      "outputs": [
        {
          "output_type": "execute_result",
          "data": {
            "text/plain": [
              "array([[1074,    0,    0,    0,    0,    0],\n",
              "       [   0, 1173,    0,    0,    0,    0],\n",
              "       [   0,    0, 1307,    0,    0,    0],\n",
              "       [   0,    0,    0, 1198,    0,    0],\n",
              "       [   0,    0,    0,    0, 1250,    0],\n",
              "       [   0,    0,    0,    0,    0, 1299]])"
            ]
          },
          "metadata": {
            "tags": []
          },
          "execution_count": 43
        }
      ]
    },
    {
      "cell_type": "code",
      "metadata": {
        "colab": {
          "base_uri": "https://localhost:8080/",
          "height": 513
        },
        "id": "T68CDXz_ez9D",
        "outputId": "1746ce42-ce99-46c8-90d4-6fb3bb97d9e3"
      },
      "source": [
        "#Plot training and validation accuracy \n",
        "acc=H.history['accuracy']\n",
        "val_acc=H.history['val_accuracy']\n",
        "loss=H.history['loss']\n",
        "val_loss=H.history['val_loss']\n",
        "epochs=range(len(acc)) \n",
        " \n",
        "import matplotlib.pyplot as plt\n",
        "plt.plot(epochs,acc,'b',label='Training Accuracy')\n",
        "plt.plot(epochs,val_acc,'r',label='Validation Accuracy')\n",
        "plt.legend()\n",
        "plt.figure()\n",
        " \n",
        "#Plot training and validation loss \n",
        "plt.plot(epochs,loss,'b',label='Training Loss')\n",
        "plt.plot(epochs,val_loss,'r',label='Validation Loss')\n",
        "plt.legend()\n",
        "plt.show()"
      ],
      "execution_count": null,
      "outputs": [
        {
          "output_type": "display_data",
          "data": {
            "image/png": "[encoded data removed]",
            "text/plain": [
              "<Figure size 432x288 with 1 Axes>"
            ]
          },
          "metadata": {
            "tags": [],
            "needs_background": "light"
          }
        },
        {
          "output_type": "display_data",
          "data": {
            "image/png": "[encoded data removed]",
            "text/plain": [
              "<Figure size 432x288 with 1 Axes>"
            ]
          },
          "metadata": {
            "tags": [],
            "needs_background": "light"
          }
        }
      ]
    }
  ]
}